{
 "cells": [
  {
   "cell_type": "code",
   "execution_count": null,
   "id": "aa746adc",
   "metadata": {},
   "outputs": [],
   "source": [
    "import re  # importing regular expression library\n",
    "\n",
    "# This function calculates the degree of profanity for a single tweet\n",
    "def degree_of_profanity(tweet, racial_slurs):\n",
    "    profanity_score = 0\n",
    "    \n",
    "    # Use regular expressions to split the tweet into words\n",
    "    for word in re.findall(r'\\b\\w+\\b', tweet):\n",
    "        # If a word in the tweet is in the list of racial slurs, increment to the profanity score\n",
    "        if word in racial_slurs:\n",
    "            profanity_score += 1\n",
    "    \n",
    "    return profanity_score\n",
    "\n",
    "# This function takes a filename and a list of racial slurs as input\n",
    "def main(file_path, racial_slurs):\n",
    "    # Opens the file and reads all the tweets into a list\n",
    "    with open(file_path, 'r') as f:\n",
    "        tweets = f.readlines()\n",
    "        \n",
    "    # Initializing a list to store the profanity scores for each tweet\n",
    "    profanity_scores = []\n",
    "    \n",
    "    # Calculate the degree of profanity for each tweet and add the score to the list\n",
    "    for tweet in tweets:\n",
    "        profanity_scores.append(degree_of_profanity(tweet, racial_slurs))\n",
    "        \n",
    "    return profanity_scores\n",
    "\n",
    "# List of racial slurs to use as input to the program ,, more can be added to list\n",
    "racial_slurs = ['bastard', 'pussy', 'dick', 'motherfucker', 'laude', 'gandu','son of a bitch','whore','randi']\n",
    "\n",
    "# Calling the main function to calculate the profanity scores for the tweets\n",
    "profanity_scores = main('tweets.txt', racial_slurs)\n",
    "\n",
    "# Printing the list of profanity scores\n",
    "print(profanity_scores)\n"
   ]
  }
 ],
 "metadata": {
  "kernelspec": {
   "display_name": "Python 3 (ipykernel)",
   "language": "python",
   "name": "python3"
  },
  "language_info": {
   "codemirror_mode": {
    "name": "ipython",
    "version": 3
   },
   "file_extension": ".py",
   "mimetype": "text/x-python",
   "name": "python",
   "nbconvert_exporter": "python",
   "pygments_lexer": "ipython3",
   "version": "3.9.7"
  },
  "toc": {
   "base_numbering": 1,
   "nav_menu": {},
   "number_sections": true,
   "sideBar": true,
   "skip_h1_title": false,
   "title_cell": "Table of Contents",
   "title_sidebar": "Contents",
   "toc_cell": false,
   "toc_position": {},
   "toc_section_display": true,
   "toc_window_display": false
  },
  "varInspector": {
   "cols": {
    "lenName": 16,
    "lenType": 16,
    "lenVar": 40
   },
   "kernels_config": {
    "python": {
     "delete_cmd_postfix": "",
     "delete_cmd_prefix": "del ",
     "library": "var_list.py",
     "varRefreshCmd": "print(var_dic_list())"
    },
    "r": {
     "delete_cmd_postfix": ") ",
     "delete_cmd_prefix": "rm(",
     "library": "var_list.r",
     "varRefreshCmd": "cat(var_dic_list()) "
    }
   },
   "types_to_exclude": [
    "module",
    "function",
    "builtin_function_or_method",
    "instance",
    "_Feature"
   ],
   "window_display": false
  }
 },
 "nbformat": 4,
 "nbformat_minor": 5
}
